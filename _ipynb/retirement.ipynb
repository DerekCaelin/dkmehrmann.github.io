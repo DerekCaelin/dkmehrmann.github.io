{
 "cells": [
  {
   "cell_type": "code",
   "execution_count": null,
   "metadata": {
    "collapsed": true
   },
   "outputs": [],
   "source": [
    "yrs_work = 40              # how many more years will you work\n",
    "yrs_retr = 30              # how many years of retirement do you anticipate\n",
    "int_rate = 0.05            # what interest rate do you expect to get\n",
    "dep_401k = 8000            # how much do you plan to invest in 401k (including employer match)\n",
    "dep_ira = 5500             # how much do you plan to invest in an IRA\n",
    "yrly_ret_spnd = 80000      # how much do you expect to spend in retirement\n",
    "ira_first = True           # do you plan to spend your IRA first?\n",
    " \n",
    "\n",
    "res_401k = 0               # your current 401k balance\n",
    "res_ira = 0                # your current IRA balance\n",
    "\n",
    "for i in range(yrs_work + yrs_retr):\n",
    "    res_401k *= (1 + int_rate)\n",
    "    res_ira *= (1 + int_rate)\n",
    "    \n",
    "    if i < yrs_work:\n",
    "        res_401k += dep_401k\n",
    "        res_ira += dep_ira\n",
    "    else:\n",
    "        \n",
    "        if ira_first:\n",
    "            \n",
    "            if res_ira > 0:\n",
    "                res_ira -= yrly_ret_spnd\n",
    "            else:\n",
    "                res_401k -= yrly_ret_spnd * (1/.7)\n",
    "        else:\n",
    "            \n",
    "            if res_401k > 0:\n",
    "                res_401k -= yrly_ret_spnd * (1/.7)\n",
    "            else:\n",
    "                res_ira -= yrly_ret_spnd\n",
    "\n",
    "\n",
    "    if (res_ira + res_401k) < 0:\n",
    "        print(\"Oh no! You ran out of money {0} years into retirement (out of your desired {1})\".format(i-yrs_work, yrs_retr))\n",
    "        break\n",
    "    elif i == (yrs_work + yrs_retr - 1):\n",
    "        print(\"Success! You'll die with ${0:,.2f} unspent\".format(res_401k + res_ira))"
   ]
  }
 ],
 "metadata": {
  "kernelspec": {
   "display_name": "Python 3",
   "language": "python",
   "name": "python3"
  },
  "language_info": {
   "codemirror_mode": {
    "name": "ipython",
    "version": 3
   },
   "file_extension": ".py",
   "mimetype": "text/x-python",
   "name": "python",
   "nbconvert_exporter": "python",
   "pygments_lexer": "ipython3",
   "version": "3.4.3"
  },
  "widgets": {
   "state": {},
   "version": "1.1.2"
  }
 },
 "nbformat": 4,
 "nbformat_minor": 0
}
