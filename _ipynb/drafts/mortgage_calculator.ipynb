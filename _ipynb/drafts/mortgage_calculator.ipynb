{
 "cells": [
  {
   "cell_type": "markdown",
   "metadata": {},
   "source": [
    "Chicago tax rates: http://www.chicagotribune.com/ct-compare-your-property-tax-rate-database-20151111-htmlstory.html"
   ]
  },
  {
   "cell_type": "code",
   "execution_count": 23,
   "metadata": {
    "collapsed": false
   },
   "outputs": [
    {
     "name": "stdout",
     "output_type": "stream",
     "text": [
      "Monthly Breakdown\n",
      "--------------------------------------------------\n",
      "Mortgage Payment               $ 2,367.00\n",
      "Property Taxes                 $ 666.67\n",
      "Insurance                      $ 116.67\n",
      "Maintenance Cost               $ 333.33\n",
      "HOA Fees                       $ 0.00\n",
      "\n",
      "Total Monthly Payment          $ 3,483.67\n",
      "\n",
      "Total Costs\n",
      "--------------------------------------------------\n",
      "Total Cost of Home             $ 707,060.25\n",
      "Total Cost minus Value         $ 307,060.25\n"
     ]
    }
   ],
   "source": [
    "class own_home:\n",
    "    def __init__(self, value, down, interest, term, tax_rate, \n",
    "                 maintenance_rate, insurance_rate, HOA_fees):\n",
    "        self.P = value - down\n",
    "        \n",
    "        self.value = value\n",
    "            \n",
    "        self.N = term * 12\n",
    "        self.i = interest/12\n",
    "        \n",
    "        self.mortgage_payment = self.calculate_mortgage_payment()\n",
    "        \n",
    "        self.monthly_tax = tax = tax_rate * value / 12\n",
    "        self.monthly_insurance = insurance_rate * value / 12\n",
    "        self.monthly_upkeep = maintenance_rate * value / 12\n",
    "        self.monthly_hoa = HOA_fees\n",
    "        \n",
    "        self.total_monthly = self.calculate_monthly_cost()\n",
    "        \n",
    "        self.total_cost = self.total_monthly * self.N + down\n",
    "        \n",
    "    def calculate_mortgage_payment(self):\n",
    "        \n",
    "        m_payment = self.i * (self.P*(1+self.i)**self.N)/( (1+self.i)**self.N - 1)\n",
    "        \n",
    "        return m_payment\n",
    "    \n",
    "    def calculate_monthly_cost(self):\n",
    "        \n",
    "        total = sum([self.mortgage_payment, self.monthly_tax, self.monthly_insurance,\n",
    "                   self.monthly_upkeep, self.monthly_hoa])\n",
    "        \n",
    "        return total\n",
    "        \n",
    "    def __str__(self):\n",
    "        \n",
    "        fmt = '{0:30} $ {1:,.2f}'\n",
    "        long_string = [\n",
    "            'Monthly Breakdown',\n",
    "            '-'*50,\n",
    "            fmt.format('Mortgage Payment', o.mortgage_payment),\n",
    "            fmt.format('Property Taxes', o.monthly_tax),\n",
    "            fmt.format('Insurance', o.monthly_insurance),\n",
    "            fmt.format('Maintenance Cost', o.monthly_upkeep),\n",
    "            fmt.format('HOA Fees', o.monthly_hoa),\n",
    "            \"\",\n",
    "            fmt.format('Total Monthly Payment', self.total_monthly),\n",
    "            \"\",\n",
    "            \"Total Costs\",\n",
    "            \"-\"*50,\n",
    "            fmt.format('Total Cost of Home', self.total_cost),\n",
    "            fmt.format('Total Cost minus Value', self.total_cost - self.value)\n",
    "        ]\n",
    "\n",
    "        return '\\n'.join(long_string)\n",
    "    \n",
    "    def compare_with_rental(self, monthly_rent):\n",
    "        \n",
    "        print(self)\n",
    "        \n",
    "        rental_cost = monthly_rent * self.N\n",
    "        print('\\n')\n",
    "        print('Comparison with Renting')\n",
    "        print('-'*50)\n",
    "        print('{0:30} $ {1:,.2f}'.format(\"Comparable Monthly Rent\", monthly_rent))\n",
    "        print('{0:30} $ {1:,.2f}'.format(\"Total Cost of Rental\", rental_cost))\n",
    "        # total savings\n",
    "        print('{0:30} $ {1:,.2f}'.format(\"Savings over Renting\", rental_cost - self.total_cost + self.value))\n",
    "        \n",
    "        \n",
    "        \n",
    "        \n",
    "\n",
    "o = own_home(value=400000, \n",
    "             down=80000, \n",
    "             interest=0.04, \n",
    "             term=15, \n",
    "             tax_rate=0.02, \n",
    "             maintenance_rate=0.01, \n",
    "             insurance_rate=0.0035, \n",
    "             HOA_fees=0)\n",
    "\n",
    "print(o)"
   ]
  },
  {
   "cell_type": "code",
   "execution_count": 17,
   "metadata": {
    "collapsed": false
   },
   "outputs": [
    {
     "name": "stdout",
     "output_type": "stream",
     "text": [
      "Monthly Breakdown\n",
      "--------------------------------------------------\n",
      "Mortgage Payment               $ 2,219.06\n",
      "Property Taxes                 $ 583.33\n",
      "Insurance                      $ 102.08\n",
      "Maintenance Cost               $ 291.67\n",
      "HOA Fees                       $ 0.00\n",
      "\n",
      "Total Monthly Payment          $ 3,196.15\n",
      "\n",
      "Total Costs\n",
      "--------------------------------------------------\n",
      "Total Cost of Home             $ 625,306.48\n",
      "Total Cost minus Value         $ 275,306.48\n",
      "\n",
      "\n",
      "Comparison with Renting\n",
      "--------------------------------------------------\n",
      "Comparable Monthly Rent        $ 2,000.00\n",
      "Total Cost of Rental           $ 360,000.00\n",
      "Savings over Renting           $ 84,693.52\n"
     ]
    }
   ],
   "source": [
    "o.compare_with_rental(2000)"
   ]
  },
  {
   "cell_type": "markdown",
   "metadata": {},
   "source": [
    "# Limitations\n",
    "\n",
    "* This doesn't include PMI\n",
    "* This doesn't account for appreciation of Real Estate investment\n",
    "* This doesn't account for refinancing or changes in the value of the home\n",
    "* This doesn't account for the *opportunity cost* that the owner faces by having a higher monthly payment (they could invest the difference in the monthly payment to recoup some of the losses of renting)"
   ]
  },
  {
   "cell_type": "code",
   "execution_count": null,
   "metadata": {
    "collapsed": true
   },
   "outputs": [],
   "source": []
  }
 ],
 "metadata": {
  "kernelspec": {
   "display_name": "Python 3",
   "language": "python",
   "name": "python3"
  },
  "language_info": {
   "codemirror_mode": {
    "name": "ipython",
    "version": 3
   },
   "file_extension": ".py",
   "mimetype": "text/x-python",
   "name": "python",
   "nbconvert_exporter": "python",
   "pygments_lexer": "ipython3",
   "version": "3.4.3"
  },
  "widgets": {
   "state": {},
   "version": "1.1.2"
  }
 },
 "nbformat": 4,
 "nbformat_minor": 0
}
